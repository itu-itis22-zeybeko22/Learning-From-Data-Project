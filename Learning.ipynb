{
 "cells": [
  {
   "metadata": {
    "ExecuteTime": {
     "end_time": "2024-05-27T09:15:29.442570Z",
     "start_time": "2024-05-27T09:15:25.377866Z"
    }
   },
   "cell_type": "code",
   "source": [
    "import matplotlib.pyplot as plt\n",
    "import torch\n",
    "import torchvision\n",
    "import torchvision.transforms as transforms\n",
    "import torch.nn as nn\n",
    "import torch.optim as optim\n",
    "from torchvision import models\n",
    "import torch.nn.functional as F\n",
    "import seaborn as sns\n",
    "import random\n",
    "\n",
    "device = torch.device(\"cuda\" if torch.cuda.is_available() else \"cpu\")"
   ],
   "id": "74e6031f164e173d",
   "outputs": [],
   "execution_count": 1
  },
  {
   "metadata": {
    "ExecuteTime": {
     "end_time": "2024-05-27T09:25:23.400428Z",
     "start_time": "2024-05-27T09:25:23.396007Z"
    }
   },
   "cell_type": "code",
   "source": [
    "#Data transforms with more augmentation\n",
    "transform = transforms.Compose([\n",
    "    transforms.Resize((224, 224)),\n",
    "    transforms.RandomHorizontalFlip(),\n",
    "    transforms.RandomVerticalFlip(),\n",
    "    transforms.RandomRotation(20),\n",
    "    transforms.RandomResizedCrop(224, scale=(0.6, 1.0)),\n",
    "    transforms.ColorJitter(brightness=0.5, contrast=0.5, saturation=0.5, hue=0.2),\n",
    "    transforms.RandomGrayscale(p=0.2),\n",
    "    transforms.ToTensor(),\n",
    "    transforms.Normalize((0.5, 0.5, 0.5), (0.5, 0.5, 0.5))\n",
    "])"
   ],
   "id": "d7205c488084c4d2",
   "outputs": [],
   "execution_count": 17
  },
  {
   "metadata": {
    "ExecuteTime": {
     "end_time": "2024-05-27T09:25:25.675761Z",
     "start_time": "2024-05-27T09:25:25.650292Z"
    }
   },
   "cell_type": "code",
   "source": [
    "#Training images\n",
    "# Load datasets\n",
    "trainset = torchvision.datasets.ImageFolder(root=r'C:\\Users\\omerf\\OneDrive\\Masaüstü\\Learning From Data Project\\classes_train', transform=transform)\n",
    "testset = torchvision.datasets.ImageFolder(root=r'C:\\Users\\omerf\\OneDrive\\Masaüstü\\Learning From Data Project\\classes_test', transform=transform)"
   ],
   "id": "aff2a1a0fee7b63c",
   "outputs": [],
   "execution_count": 18
  },
  {
   "metadata": {
    "ExecuteTime": {
     "end_time": "2024-05-27T09:25:25.910485Z",
     "start_time": "2024-05-27T09:25:25.904286Z"
    }
   },
   "cell_type": "code",
   "source": [
    "loader_train = torch.utils.data.DataLoader(trainset, batch_size=64, shuffle=True, num_workers=8)\n",
    "loader_test = torch.utils.data.DataLoader(testset, batch_size=64, shuffle=False, num_workers=8)"
   ],
   "id": "b61ff0931f84948f",
   "outputs": [],
   "execution_count": 19
  },
  {
   "metadata": {
    "ExecuteTime": {
     "end_time": "2024-05-27T09:25:26.376508Z",
     "start_time": "2024-05-27T09:25:26.371632Z"
    }
   },
   "cell_type": "code",
   "source": [
    "# Define the embedding model with dropout\n",
    "class EmbeddingModel(nn.Module):\n",
    "    def __init__(self, base_model, embedding_size):\n",
    "        super(EmbeddingModel, self).__init__()\n",
    "        self.base_model = nn.Sequential(*list(base_model.children())[:-1])\n",
    "        self.fc = nn.Linear(base_model.fc.in_features, embedding_size)\n",
    "        self.dropout = nn.Dropout(0.5)\n",
    "        self.relu = nn.ReLU()\n",
    "    \n",
    "    def forward(self, x):\n",
    "        x = self.base_model(x)\n",
    "        x = x.view(x.size(0), -1)\n",
    "        x = self.dropout(x)\n",
    "        x = self.fc(x)\n",
    "        x = self.relu(x)\n",
    "        return x"
   ],
   "id": "28ccd9feab07ddb3",
   "outputs": [],
   "execution_count": 20
  },
  {
   "metadata": {
    "ExecuteTime": {
     "end_time": "2024-05-27T09:25:27.231051Z",
     "start_time": "2024-05-27T09:25:27.057874Z"
    }
   },
   "cell_type": "code",
   "source": [
    "# Load pretrained ResNet18 and create embedding model\n",
    "resnet = torchvision.models.resnet18(pretrained=True)\n",
    "embedding_resnet = EmbeddingModel(resnet, embedding_size=128).to(device)"
   ],
   "id": "74ad85e7023ebd1",
   "outputs": [
    {
     "name": "stderr",
     "output_type": "stream",
     "text": [
      "C:\\Users\\omerf\\AppData\\Local\\Programs\\Python\\Python311\\Lib\\site-packages\\torchvision\\models\\_utils.py:208: UserWarning: The parameter 'pretrained' is deprecated since 0.13 and may be removed in the future, please use 'weights' instead.\n",
      "  warnings.warn(\n",
      "C:\\Users\\omerf\\AppData\\Local\\Programs\\Python\\Python311\\Lib\\site-packages\\torchvision\\models\\_utils.py:223: UserWarning: Arguments other than a weight enum or `None` for 'weights' are deprecated since 0.13 and may be removed in the future. The current behavior is equivalent to passing `weights=ResNet18_Weights.IMAGENET1K_V1`. You can also use `weights=ResNet18_Weights.DEFAULT` to get the most up-to-date weights.\n",
      "  warnings.warn(msg)\n"
     ]
    }
   ],
   "execution_count": 21
  },
  {
   "metadata": {
    "ExecuteTime": {
     "end_time": "2024-05-27T09:25:28.522779Z",
     "start_time": "2024-05-27T09:25:28.517668Z"
    }
   },
   "cell_type": "code",
   "source": [
    "#Define contrastive loss\n",
    "class ContrastiveLoss(nn.Module):\n",
    "    def __init__(self, margin=1.0):\n",
    "        super(ContrastiveLoss, self).__init__()\n",
    "        self.margin = margin\n",
    "    \n",
    "    def forward(self, output1, output2, label):\n",
    "        euclidean_distance = F.pairwise_distance(output1, output2)\n",
    "        loss_contrastive = torch.mean((1 - label) * torch.pow(euclidean_distance, 2) +\n",
    "                                      label * torch.pow(torch.clamp(self.margin - euclidean_distance, min=0.0), 2))\n",
    "        return loss_contrastive"
   ],
   "id": "392fcdd7d7edf206",
   "outputs": [],
   "execution_count": 22
  },
  {
   "metadata": {
    "ExecuteTime": {
     "end_time": "2024-05-27T09:25:29.809702Z",
     "start_time": "2024-05-27T09:25:29.805427Z"
    }
   },
   "cell_type": "code",
   "source": [
    "criterion_contrastive = ContrastiveLoss()\n",
    "optimizer_contrastive = optim.Adam(embedding_resnet.parameters(), lr=0.00001)"
   ],
   "id": "ab99f2a2616cf74b",
   "outputs": [],
   "execution_count": 23
  },
  {
   "metadata": {
    "ExecuteTime": {
     "end_time": "2024-05-27T09:25:30.205333Z",
     "start_time": "2024-05-27T09:25:30.201571Z"
    }
   },
   "cell_type": "code",
   "source": [
    "# Function to create pairs\n",
    "def create_pairs(images, labels, num_pairs=16):\n",
    "    pairs = []\n",
    "    for i in range(num_pairs):\n",
    "        idx1, idx2 = torch.randint(0, len(images), (2,))\n",
    "        img1, img2 = images[idx1], images[idx2]\n",
    "        label = torch.tensor(int(labels[idx1] == labels[idx2]), dtype=torch.float32)\n",
    "        pairs.append((img1, img2, label))\n",
    "    return pairs"
   ],
   "id": "901f0973a32c51c4",
   "outputs": [],
   "execution_count": 24
  },
  {
   "metadata": {
    "ExecuteTime": {
     "end_time": "2024-05-27T08:57:57.741621Z",
     "start_time": "2024-05-27T08:12:10.987032Z"
    }
   },
   "cell_type": "code",
   "source": [
    "# Training loop for the contrastive loss\n",
    "losses = []\n",
    "num_epochs_contrastive = 30 \n",
    "for epoch in range(num_epochs_contrastive):\n",
    "    embedding_resnet.train()\n",
    "    running_loss = 0.0\n",
    "    for images, labels in loader_train:\n",
    "        images, labels = images.to(device), labels.to(device)\n",
    "        pairs = create_pairs(images, labels, num_pairs=16)\n",
    "        for img1, img2, label in pairs:\n",
    "            optimizer_contrastive.zero_grad()\n",
    "            img1, img2, label = img1.unsqueeze(0).to(device), img2.unsqueeze(0).to(device), label.to(device)\n",
    "            \n",
    "            output1 = embedding_resnet(img1)\n",
    "            output2 = embedding_resnet(img2)\n",
    "            \n",
    "            loss = criterion_contrastive(output1, output2, label)\n",
    "            \n",
    "            loss.backward()\n",
    "            optimizer_contrastive.step()\n",
    "            \n",
    "            running_loss += loss.item()\n",
    "    \n",
    "    avg_loss = running_loss / len(loader_train)\n",
    "    print(f\"Epoch: {epoch}, Contrastive Loss: {avg_loss:.4f}\")\n",
    "    losses.append(avg_loss)\n"
   ],
   "id": "1776e954766021f5",
   "outputs": [
    {
     "name": "stdout",
     "output_type": "stream",
     "text": [
      "Epoch: 0, Contrastive Loss: 351.9106\n",
      "Epoch: 1, Contrastive Loss: 229.9208\n",
      "Epoch: 2, Contrastive Loss: 136.6503\n",
      "Epoch: 3, Contrastive Loss: 97.3308\n",
      "Epoch: 4, Contrastive Loss: 68.9688\n",
      "Epoch: 5, Contrastive Loss: 44.3761\n",
      "Epoch: 6, Contrastive Loss: 26.5328\n",
      "Epoch: 7, Contrastive Loss: 16.9992\n",
      "Epoch: 8, Contrastive Loss: 12.6585\n",
      "Epoch: 9, Contrastive Loss: 8.6560\n",
      "Epoch: 10, Contrastive Loss: 8.4012\n",
      "Epoch: 11, Contrastive Loss: 7.2632\n",
      "Epoch: 12, Contrastive Loss: 6.4810\n",
      "Epoch: 13, Contrastive Loss: 4.5905\n",
      "Epoch: 14, Contrastive Loss: 2.7483\n",
      "Epoch: 15, Contrastive Loss: 2.9918\n",
      "Epoch: 16, Contrastive Loss: 2.7334\n",
      "Epoch: 17, Contrastive Loss: 2.6464\n",
      "Epoch: 18, Contrastive Loss: 2.4210\n",
      "Epoch: 19, Contrastive Loss: 2.6438\n",
      "Epoch: 20, Contrastive Loss: 2.4400\n",
      "Epoch: 21, Contrastive Loss: 1.9163\n",
      "Epoch: 22, Contrastive Loss: 1.8190\n",
      "Epoch: 23, Contrastive Loss: 2.4980\n",
      "Epoch: 24, Contrastive Loss: 1.7132\n",
      "Epoch: 25, Contrastive Loss: 2.4591\n",
      "Epoch: 26, Contrastive Loss: 2.4176\n",
      "Epoch: 27, Contrastive Loss: 1.6150\n",
      "Epoch: 28, Contrastive Loss: 1.5452\n",
      "Epoch: 29, Contrastive Loss: 1.7475\n"
     ]
    }
   ],
   "execution_count": 10
  },
  {
   "metadata": {
    "ExecuteTime": {
     "end_time": "2024-05-27T09:15:30.938987Z",
     "start_time": "2024-05-27T09:15:30.771171Z"
    }
   },
   "cell_type": "code",
   "source": [
    "# Plotting the loss\n",
    "sns.lineplot(x=range(len(losses)), y=losses)\n",
    "plt.xlabel('Epochs')\n",
    "plt.ylabel('Loss')\n",
    "plt.title(\"Loss Change in Every Epoch\")\n",
    "plt.show()\n",
    "plt.savefig(\"loss.png\")"
   ],
   "id": "fbfdefff4206c175",
   "outputs": [
    {
     "ename": "NameError",
     "evalue": "name 'losses' is not defined",
     "output_type": "error",
     "traceback": [
      "\u001B[1;31m---------------------------------------------------------------------------\u001B[0m",
      "\u001B[1;31mNameError\u001B[0m                                 Traceback (most recent call last)",
      "Cell \u001B[1;32mIn[10], line 2\u001B[0m\n\u001B[0;32m      1\u001B[0m \u001B[38;5;66;03m# Plotting the loss\u001B[39;00m\n\u001B[1;32m----> 2\u001B[0m sns\u001B[38;5;241m.\u001B[39mlineplot(x\u001B[38;5;241m=\u001B[39m\u001B[38;5;28mrange\u001B[39m(\u001B[38;5;28mlen\u001B[39m(\u001B[43mlosses\u001B[49m)), y\u001B[38;5;241m=\u001B[39mlosses)\n\u001B[0;32m      3\u001B[0m plt\u001B[38;5;241m.\u001B[39mxlabel(\u001B[38;5;124m'\u001B[39m\u001B[38;5;124mEpochs\u001B[39m\u001B[38;5;124m'\u001B[39m)\n\u001B[0;32m      4\u001B[0m plt\u001B[38;5;241m.\u001B[39mylabel(\u001B[38;5;124m'\u001B[39m\u001B[38;5;124mLoss\u001B[39m\u001B[38;5;124m'\u001B[39m)\n",
      "\u001B[1;31mNameError\u001B[0m: name 'losses' is not defined"
     ]
    }
   ],
   "execution_count": 10
  },
  {
   "metadata": {
    "ExecuteTime": {
     "end_time": "2024-05-27T09:25:35.446203Z",
     "start_time": "2024-05-27T09:25:35.440456Z"
    }
   },
   "cell_type": "code",
   "source": [
    "# Adding linear classifier on top of the Embedding Model with BatchNorm\n",
    "classifier = nn.Sequential(\n",
    "    nn.Linear(in_features=128, out_features=512),\n",
    "    nn.BatchNorm1d(512),  # Adding Batch Normalization\n",
    "    nn.ReLU(),\n",
    "    nn.Linear(in_features=512, out_features=10)\n",
    ").to(device)\n",
    "\n",
    "class FullModel(nn.Module):\n",
    "    def __init__(self, embedding_model, classifier):\n",
    "        super(FullModel, self).__init__()\n",
    "        self.embedding_model = embedding_model\n",
    "        self.classifier = classifier\n",
    "    \n",
    "    def forward(self, x):\n",
    "        x = self.embedding_model(x)\n",
    "        x = self.classifier(x)\n",
    "        return x"
   ],
   "id": "27a7b2db7c862511",
   "outputs": [],
   "execution_count": 25
  },
  {
   "metadata": {
    "ExecuteTime": {
     "end_time": "2024-05-27T09:25:35.810347Z",
     "start_time": "2024-05-27T09:25:35.800141Z"
    }
   },
   "cell_type": "code",
   "source": [
    "#Create full model\n",
    "full_model = FullModel(embedding_resnet, classifier).to(device)"
   ],
   "id": "47f3b3340e774bdd",
   "outputs": [],
   "execution_count": 26
  },
  {
   "metadata": {
    "ExecuteTime": {
     "end_time": "2024-05-27T09:27:30.357969Z",
     "start_time": "2024-05-27T09:27:30.353099Z"
    }
   },
   "cell_type": "code",
   "source": [
    "#Fine-tuning additional layers\n",
    "for name, param in embedding_resnet.base_model.named_parameters():\n",
    "    if \"layer3\" not in name and \"layer4\" not in name:\n",
    "        param.requires_grad = False\n",
    "#Defining loss function and optimizer for the classifier\n",
    "criterion_classifier = nn.CrossEntropyLoss()\n",
    "optimizer_classifier = optim.Adam(full_model.classifier.parameters(), lr=0.001)\n",
    "scheduler = optim.lr_scheduler.CosineAnnealingLR(optimizer_classifier, T_max=num_epochs_classifier)"
   ],
   "id": "480d7f2d2adcc676",
   "outputs": [],
   "execution_count": 30
  },
  {
   "metadata": {
    "ExecuteTime": {
     "end_time": "2024-05-27T11:00:51.479340Z",
     "start_time": "2024-05-27T10:14:28.850189Z"
    }
   },
   "cell_type": "code",
   "source": [
    "#Training loop for classifier\n",
    "loss1 = []\n",
    "accuracy = []\n",
    "num_epochs_classifier = 30\n",
    "for epoch in range(num_epochs_classifier):\n",
    "    full_model.train()\n",
    "    running_loss = 0.0\n",
    "    correct = 0\n",
    "    total = 0\n",
    "    for images, labels in loader_train:\n",
    "        images, labels = images.to(device), labels.to(device)\n",
    "        optimizer_classifier.zero_grad()\n",
    "        \n",
    "        outputs = full_model(images)\n",
    "        loss = criterion_classifier(outputs, labels)\n",
    "                \n",
    "        loss.backward()\n",
    "        optimizer_classifier.step()\n",
    "        \n",
    "        running_loss += loss.item()\n",
    "        \n",
    "        _, predicted = torch.max(outputs.data, 1)\n",
    "        total += labels.size(0)\n",
    "        correct += (predicted == labels).sum().item()\n",
    "    \n",
    "    avg_loss = running_loss / len(loader_train)\n",
    "    acc = 100 * correct / total\n",
    "    print(f\"Epoch: {epoch}, Loss: {avg_loss:.4f}, Accuracy: {acc:.2f}%\")\n",
    "    loss1.append(avg_loss)\n",
    "    accuracy.append(acc)\n",
    "    \n",
    "    scheduler.step()"
   ],
   "id": "df327fcb00bf287b",
   "outputs": [
    {
     "name": "stdout",
     "output_type": "stream",
     "text": [
      "Epoch: 0, Loss: 1.6384, Accuracy: 39.50%\n",
      "Epoch: 1, Loss: 1.6014, Accuracy: 44.10%\n",
      "Epoch: 2, Loss: 1.5686, Accuracy: 44.10%\n",
      "Epoch: 3, Loss: 1.6336, Accuracy: 40.40%\n",
      "Epoch: 4, Loss: 1.6561, Accuracy: 40.40%\n",
      "Epoch: 5, Loss: 1.6106, Accuracy: 41.30%\n",
      "Epoch: 6, Loss: 1.5735, Accuracy: 43.90%\n",
      "Epoch: 7, Loss: 1.5783, Accuracy: 43.20%\n",
      "Epoch: 8, Loss: 1.5964, Accuracy: 42.80%\n",
      "Epoch: 9, Loss: 1.6149, Accuracy: 42.50%\n",
      "Epoch: 10, Loss: 1.5902, Accuracy: 42.60%\n",
      "Epoch: 11, Loss: 1.5862, Accuracy: 41.80%\n",
      "Epoch: 12, Loss: 1.6144, Accuracy: 43.10%\n",
      "Epoch: 13, Loss: 1.6086, Accuracy: 44.10%\n",
      "Epoch: 14, Loss: 1.5800, Accuracy: 43.30%\n",
      "Epoch: 15, Loss: 1.6218, Accuracy: 43.10%\n",
      "Epoch: 16, Loss: 1.6107, Accuracy: 41.30%\n",
      "Epoch: 17, Loss: 1.5574, Accuracy: 43.60%\n",
      "Epoch: 18, Loss: 1.5952, Accuracy: 43.30%\n",
      "Epoch: 19, Loss: 1.5935, Accuracy: 43.80%\n",
      "Epoch: 20, Loss: 1.5054, Accuracy: 46.70%\n",
      "Epoch: 21, Loss: 1.5869, Accuracy: 44.40%\n",
      "Epoch: 22, Loss: 1.5831, Accuracy: 43.40%\n",
      "Epoch: 23, Loss: 1.6154, Accuracy: 41.50%\n",
      "Epoch: 24, Loss: 1.5214, Accuracy: 46.20%\n",
      "Epoch: 25, Loss: 1.6072, Accuracy: 40.40%\n",
      "Epoch: 26, Loss: 1.5834, Accuracy: 42.50%\n",
      "Epoch: 27, Loss: 1.6222, Accuracy: 41.30%\n",
      "Epoch: 28, Loss: 1.5980, Accuracy: 41.70%\n",
      "Epoch: 29, Loss: 1.6182, Accuracy: 41.50%\n"
     ]
    }
   ],
   "execution_count": 32
  },
  {
   "metadata": {
    "ExecuteTime": {
     "end_time": "2024-05-27T09:23:34.470044Z",
     "start_time": "2024-05-27T09:23:34.157468Z"
    }
   },
   "cell_type": "code",
   "source": [
    "# Plotting the classifier loss\n",
    "sns.lineplot(x=range(len(loss1)), y=loss1)\n",
    "plt.xlabel('Epochs')\n",
    "plt.ylabel('Loss')\n",
    "plt.title(\"Classifier Loss Change in Every Epoch\")\n",
    "plt.show()"
   ],
   "id": "d7124a0247b802e9",
   "outputs": [
    {
     "data": {
      "text/plain": [
       "<Figure size 640x480 with 1 Axes>"
      ],
      "image/png": "[encoded data removed]"
     },
     "metadata": {},
     "output_type": "display_data"
    }
   ],
   "execution_count": 15
  },
  {
   "metadata": {
    "ExecuteTime": {
     "end_time": "2024-05-27T09:23:34.623619Z",
     "start_time": "2024-05-27T09:23:34.471153Z"
    }
   },
   "cell_type": "code",
   "source": [
    "# Plotting the classifier accuracy\n",
    "sns.lineplot(x=range(len(accuracy)), y=accuracy)\n",
    "plt.xlabel('Epochs')\n",
    "plt.ylabel('Accuracy')\n",
    "plt.title(\"Classifier Accuracy Change in Every Epoch\")\n",
    "plt.show()"
   ],
   "id": "8e0938d26314e86f",
   "outputs": [
    {
     "data": {
      "text/plain": [
       "<Figure size 640x480 with 1 Axes>"
      ],
      "image/png": "[encoded data removed]"
     },
     "metadata": {},
     "output_type": "display_data"
    }
   ],
   "execution_count": 16
  }
 ],
 "metadata": {
  "kernelspec": {
   "display_name": "Python 3",
   "language": "python",
   "name": "python3"
  },
  "language_info": {
   "codemirror_mode": {
    "name": "ipython",
    "version": 2
   },
   "file_extension": ".py",
   "mimetype": "text/x-python",
   "name": "python",
   "nbconvert_exporter": "python",
   "pygments_lexer": "ipython2",
   "version": "2.7.6"
  }
 },
 "nbformat": 4,
 "nbformat_minor": 5
}
